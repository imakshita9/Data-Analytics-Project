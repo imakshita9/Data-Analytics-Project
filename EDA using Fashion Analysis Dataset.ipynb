{
 "cells": [
  {
   "cell_type": "code",
   "execution_count": 2,
   "metadata": {
    "id": "XUKR45BRYMSx"
   },
   "outputs": [],
   "source": [
    "import numpy as np\n",
    "import pandas as pd\n",
    "import matplotlib.pyplot as plt\n",
    "import seaborn as sns"
   ]
  },
  {
   "cell_type": "code",
   "execution_count": 3,
   "metadata": {
    "id": "UaC9nD-wYq3v"
   },
   "outputs": [],
   "source": [
    "data = pd.read_csv('FashionDataset.csv')"
   ]
  },
  {
   "cell_type": "code",
   "execution_count": 3,
   "metadata": {},
   "outputs": [
    {
     "data": {
      "text/html": [
       "<div>\n",
       "<style scoped>\n",
       "    .dataframe tbody tr th:only-of-type {\n",
       "        vertical-align: middle;\n",
       "    }\n",
       "\n",
       "    .dataframe tbody tr th {\n",
       "        vertical-align: top;\n",
       "    }\n",
       "\n",
       "    .dataframe thead th {\n",
       "        text-align: right;\n",
       "    }\n",
       "</style>\n",
       "<table border=\"1\" class=\"dataframe\">\n",
       "  <thead>\n",
       "    <tr style=\"text-align: right;\">\n",
       "      <th></th>\n",
       "      <th>Unnamed: 0</th>\n",
       "      <th>BrandName</th>\n",
       "      <th>Deatils</th>\n",
       "      <th>Sizes</th>\n",
       "      <th>MRP</th>\n",
       "      <th>SellPrice</th>\n",
       "      <th>Discount</th>\n",
       "      <th>Category</th>\n",
       "    </tr>\n",
       "  </thead>\n",
       "  <tbody>\n",
       "    <tr>\n",
       "      <th>0</th>\n",
       "      <td>0</td>\n",
       "      <td>life</td>\n",
       "      <td>solid cotton blend collar neck womens a-line d...</td>\n",
       "      <td>Size:Large,Medium,Small,X-Large,X-Small</td>\n",
       "      <td>Rs\\n1699</td>\n",
       "      <td>849</td>\n",
       "      <td>50% off</td>\n",
       "      <td>Westernwear-Women</td>\n",
       "    </tr>\n",
       "    <tr>\n",
       "      <th>1</th>\n",
       "      <td>1</td>\n",
       "      <td>only</td>\n",
       "      <td>polyester peter pan collar womens blouson dres...</td>\n",
       "      <td>Size:34,36,38,40</td>\n",
       "      <td>Rs\\n3499</td>\n",
       "      <td>2449</td>\n",
       "      <td>30% off</td>\n",
       "      <td>Westernwear-Women</td>\n",
       "    </tr>\n",
       "    <tr>\n",
       "      <th>2</th>\n",
       "      <td>2</td>\n",
       "      <td>fratini</td>\n",
       "      <td>solid polyester blend wide neck womens regular...</td>\n",
       "      <td>Size:Large,X-Large,XX-Large</td>\n",
       "      <td>Rs\\n1199</td>\n",
       "      <td>599</td>\n",
       "      <td>50% off</td>\n",
       "      <td>Westernwear-Women</td>\n",
       "    </tr>\n",
       "    <tr>\n",
       "      <th>3</th>\n",
       "      <td>3</td>\n",
       "      <td>zink london</td>\n",
       "      <td>stripes polyester sweetheart neck womens dress...</td>\n",
       "      <td>Size:Large,Medium,Small,X-Large</td>\n",
       "      <td>Rs\\n2299</td>\n",
       "      <td>1379</td>\n",
       "      <td>40% off</td>\n",
       "      <td>Westernwear-Women</td>\n",
       "    </tr>\n",
       "    <tr>\n",
       "      <th>4</th>\n",
       "      <td>4</td>\n",
       "      <td>life</td>\n",
       "      <td>regular fit regular length denim womens jeans ...</td>\n",
       "      <td>Size:26,28,30,32,34,36</td>\n",
       "      <td>Rs\\n1699</td>\n",
       "      <td>849</td>\n",
       "      <td>50% off</td>\n",
       "      <td>Westernwear-Women</td>\n",
       "    </tr>\n",
       "    <tr>\n",
       "      <th>...</th>\n",
       "      <td>...</td>\n",
       "      <td>...</td>\n",
       "      <td>...</td>\n",
       "      <td>...</td>\n",
       "      <td>...</td>\n",
       "      <td>...</td>\n",
       "      <td>...</td>\n",
       "      <td>...</td>\n",
       "    </tr>\n",
       "    <tr>\n",
       "      <th>30753</th>\n",
       "      <td>21</td>\n",
       "      <td>swarovski</td>\n",
       "      <td>crystal stylish womens rodhium earrings</td>\n",
       "      <td>Nan</td>\n",
       "      <td>Nan</td>\n",
       "      <td>8950</td>\n",
       "      <td>Nan</td>\n",
       "      <td>Jewellery-Women</td>\n",
       "    </tr>\n",
       "    <tr>\n",
       "      <th>30754</th>\n",
       "      <td>22</td>\n",
       "      <td>Nan</td>\n",
       "      <td>Nan</td>\n",
       "      <td>Nan</td>\n",
       "      <td>Nan</td>\n",
       "      <td>Nan</td>\n",
       "      <td>Nan</td>\n",
       "      <td>Jewellery-Women</td>\n",
       "    </tr>\n",
       "    <tr>\n",
       "      <th>30755</th>\n",
       "      <td>23</td>\n",
       "      <td>jewelz</td>\n",
       "      <td>ethnic gold plated jhumki earrings</td>\n",
       "      <td>Nan</td>\n",
       "      <td>Rs\\n1839</td>\n",
       "      <td>643</td>\n",
       "      <td>65% off</td>\n",
       "      <td>Jewellery-Women</td>\n",
       "    </tr>\n",
       "    <tr>\n",
       "      <th>30756</th>\n",
       "      <td>24</td>\n",
       "      <td>estelle</td>\n",
       "      <td>womens gold plated double line fancy white and...</td>\n",
       "      <td>Nan</td>\n",
       "      <td>Nan</td>\n",
       "      <td>2799</td>\n",
       "      <td>Nan</td>\n",
       "      <td>Jewellery-Women</td>\n",
       "    </tr>\n",
       "    <tr>\n",
       "      <th>30757</th>\n",
       "      <td>25</td>\n",
       "      <td>estelle</td>\n",
       "      <td>womens gold plated bridge designer mangalsutra...</td>\n",
       "      <td>Nan</td>\n",
       "      <td>Nan</td>\n",
       "      <td>1899</td>\n",
       "      <td>Nan</td>\n",
       "      <td>Jewellery-Women</td>\n",
       "    </tr>\n",
       "  </tbody>\n",
       "</table>\n",
       "<p>30758 rows × 8 columns</p>\n",
       "</div>"
      ],
      "text/plain": [
       "       Unnamed: 0    BrandName  \\\n",
       "0               0         life   \n",
       "1               1         only   \n",
       "2               2      fratini   \n",
       "3               3  zink london   \n",
       "4               4         life   \n",
       "...           ...          ...   \n",
       "30753          21    swarovski   \n",
       "30754          22          Nan   \n",
       "30755          23       jewelz   \n",
       "30756          24      estelle   \n",
       "30757          25      estelle   \n",
       "\n",
       "                                                 Deatils  \\\n",
       "0      solid cotton blend collar neck womens a-line d...   \n",
       "1      polyester peter pan collar womens blouson dres...   \n",
       "2      solid polyester blend wide neck womens regular...   \n",
       "3      stripes polyester sweetheart neck womens dress...   \n",
       "4      regular fit regular length denim womens jeans ...   \n",
       "...                                                  ...   \n",
       "30753            crystal stylish womens rodhium earrings   \n",
       "30754                                                Nan   \n",
       "30755                 ethnic gold plated jhumki earrings   \n",
       "30756  womens gold plated double line fancy white and...   \n",
       "30757  womens gold plated bridge designer mangalsutra...   \n",
       "\n",
       "                                         Sizes       MRP SellPrice Discount  \\\n",
       "0      Size:Large,Medium,Small,X-Large,X-Small  Rs\\n1699       849  50% off   \n",
       "1                             Size:34,36,38,40  Rs\\n3499      2449  30% off   \n",
       "2                  Size:Large,X-Large,XX-Large  Rs\\n1199       599  50% off   \n",
       "3              Size:Large,Medium,Small,X-Large  Rs\\n2299      1379  40% off   \n",
       "4                       Size:26,28,30,32,34,36  Rs\\n1699       849  50% off   \n",
       "...                                        ...       ...       ...      ...   \n",
       "30753                                      Nan       Nan      8950      Nan   \n",
       "30754                                      Nan       Nan       Nan      Nan   \n",
       "30755                                      Nan  Rs\\n1839       643  65% off   \n",
       "30756                                      Nan       Nan      2799      Nan   \n",
       "30757                                      Nan       Nan      1899      Nan   \n",
       "\n",
       "                Category  \n",
       "0      Westernwear-Women  \n",
       "1      Westernwear-Women  \n",
       "2      Westernwear-Women  \n",
       "3      Westernwear-Women  \n",
       "4      Westernwear-Women  \n",
       "...                  ...  \n",
       "30753    Jewellery-Women  \n",
       "30754    Jewellery-Women  \n",
       "30755    Jewellery-Women  \n",
       "30756    Jewellery-Women  \n",
       "30757    Jewellery-Women  \n",
       "\n",
       "[30758 rows x 8 columns]"
      ]
     },
     "execution_count": 3,
     "metadata": {},
     "output_type": "execute_result"
    }
   ],
   "source": [
    "data"
   ]
  },
  {
   "cell_type": "code",
   "execution_count": 4,
   "metadata": {
    "colab": {
     "base_uri": "https://localhost:8080/",
     "height": 441
    },
    "id": "w5X1GpXPY4v-",
    "outputId": "455159ff-d676-46fe-80c1-a340ac8d8176"
   },
   "outputs": [
    {
     "data": {
      "text/html": [
       "<div>\n",
       "<style scoped>\n",
       "    .dataframe tbody tr th:only-of-type {\n",
       "        vertical-align: middle;\n",
       "    }\n",
       "\n",
       "    .dataframe tbody tr th {\n",
       "        vertical-align: top;\n",
       "    }\n",
       "\n",
       "    .dataframe thead th {\n",
       "        text-align: right;\n",
       "    }\n",
       "</style>\n",
       "<table border=\"1\" class=\"dataframe\">\n",
       "  <thead>\n",
       "    <tr style=\"text-align: right;\">\n",
       "      <th></th>\n",
       "      <th>Unnamed: 0</th>\n",
       "      <th>BrandName</th>\n",
       "      <th>Deatils</th>\n",
       "      <th>Sizes</th>\n",
       "      <th>MRP</th>\n",
       "      <th>SellPrice</th>\n",
       "      <th>Discount</th>\n",
       "      <th>Category</th>\n",
       "    </tr>\n",
       "  </thead>\n",
       "  <tbody>\n",
       "    <tr>\n",
       "      <th>0</th>\n",
       "      <td>0</td>\n",
       "      <td>life</td>\n",
       "      <td>solid cotton blend collar neck womens a-line d...</td>\n",
       "      <td>Size:Large,Medium,Small,X-Large,X-Small</td>\n",
       "      <td>Rs\\n1699</td>\n",
       "      <td>849</td>\n",
       "      <td>50% off</td>\n",
       "      <td>Westernwear-Women</td>\n",
       "    </tr>\n",
       "    <tr>\n",
       "      <th>1</th>\n",
       "      <td>1</td>\n",
       "      <td>only</td>\n",
       "      <td>polyester peter pan collar womens blouson dres...</td>\n",
       "      <td>Size:34,36,38,40</td>\n",
       "      <td>Rs\\n3499</td>\n",
       "      <td>2449</td>\n",
       "      <td>30% off</td>\n",
       "      <td>Westernwear-Women</td>\n",
       "    </tr>\n",
       "    <tr>\n",
       "      <th>2</th>\n",
       "      <td>2</td>\n",
       "      <td>fratini</td>\n",
       "      <td>solid polyester blend wide neck womens regular...</td>\n",
       "      <td>Size:Large,X-Large,XX-Large</td>\n",
       "      <td>Rs\\n1199</td>\n",
       "      <td>599</td>\n",
       "      <td>50% off</td>\n",
       "      <td>Westernwear-Women</td>\n",
       "    </tr>\n",
       "    <tr>\n",
       "      <th>3</th>\n",
       "      <td>3</td>\n",
       "      <td>zink london</td>\n",
       "      <td>stripes polyester sweetheart neck womens dress...</td>\n",
       "      <td>Size:Large,Medium,Small,X-Large</td>\n",
       "      <td>Rs\\n2299</td>\n",
       "      <td>1379</td>\n",
       "      <td>40% off</td>\n",
       "      <td>Westernwear-Women</td>\n",
       "    </tr>\n",
       "    <tr>\n",
       "      <th>4</th>\n",
       "      <td>4</td>\n",
       "      <td>life</td>\n",
       "      <td>regular fit regular length denim womens jeans ...</td>\n",
       "      <td>Size:26,28,30,32,34,36</td>\n",
       "      <td>Rs\\n1699</td>\n",
       "      <td>849</td>\n",
       "      <td>50% off</td>\n",
       "      <td>Westernwear-Women</td>\n",
       "    </tr>\n",
       "  </tbody>\n",
       "</table>\n",
       "</div>"
      ],
      "text/plain": [
       "   Unnamed: 0    BrandName                                            Deatils  \\\n",
       "0           0         life  solid cotton blend collar neck womens a-line d...   \n",
       "1           1         only  polyester peter pan collar womens blouson dres...   \n",
       "2           2      fratini  solid polyester blend wide neck womens regular...   \n",
       "3           3  zink london  stripes polyester sweetheart neck womens dress...   \n",
       "4           4         life  regular fit regular length denim womens jeans ...   \n",
       "\n",
       "                                     Sizes       MRP SellPrice Discount  \\\n",
       "0  Size:Large,Medium,Small,X-Large,X-Small  Rs\\n1699       849  50% off   \n",
       "1                         Size:34,36,38,40  Rs\\n3499      2449  30% off   \n",
       "2              Size:Large,X-Large,XX-Large  Rs\\n1199       599  50% off   \n",
       "3          Size:Large,Medium,Small,X-Large  Rs\\n2299      1379  40% off   \n",
       "4                   Size:26,28,30,32,34,36  Rs\\n1699       849  50% off   \n",
       "\n",
       "            Category  \n",
       "0  Westernwear-Women  \n",
       "1  Westernwear-Women  \n",
       "2  Westernwear-Women  \n",
       "3  Westernwear-Women  \n",
       "4  Westernwear-Women  "
      ]
     },
     "execution_count": 4,
     "metadata": {},
     "output_type": "execute_result"
    }
   ],
   "source": [
    "data.head()"
   ]
  },
  {
   "cell_type": "code",
   "execution_count": 4,
   "metadata": {
    "colab": {
     "base_uri": "https://localhost:8080/"
    },
    "id": "3lYQ7QrgY3Rl",
    "outputId": "e1d9fb88-4a24-4a64-f64f-6a10ec0458b3"
   },
   "outputs": [
    {
     "data": {
      "text/plain": [
       "pandas.core.frame.DataFrame"
      ]
     },
     "execution_count": 4,
     "metadata": {},
     "output_type": "execute_result"
    }
   ],
   "source": [
    "type(data)"
   ]
  },
  {
   "cell_type": "code",
   "execution_count": 6,
   "metadata": {
    "colab": {
     "base_uri": "https://localhost:8080/",
     "height": 1000
    },
    "id": "OyoWknbAZGat",
    "outputId": "c0b1be9b-a3f8-4a40-c7b8-1ce30bad5b2e"
   },
   "outputs": [
    {
     "data": {
      "text/html": [
       "<div>\n",
       "<style scoped>\n",
       "    .dataframe tbody tr th:only-of-type {\n",
       "        vertical-align: middle;\n",
       "    }\n",
       "\n",
       "    .dataframe tbody tr th {\n",
       "        vertical-align: top;\n",
       "    }\n",
       "\n",
       "    .dataframe thead th {\n",
       "        text-align: right;\n",
       "    }\n",
       "</style>\n",
       "<table border=\"1\" class=\"dataframe\">\n",
       "  <thead>\n",
       "    <tr style=\"text-align: right;\">\n",
       "      <th></th>\n",
       "      <th>Unnamed: 0</th>\n",
       "      <th>BrandName</th>\n",
       "      <th>Deatils</th>\n",
       "      <th>Sizes</th>\n",
       "      <th>MRP</th>\n",
       "      <th>SellPrice</th>\n",
       "      <th>Discount</th>\n",
       "      <th>Category</th>\n",
       "    </tr>\n",
       "  </thead>\n",
       "  <tbody>\n",
       "    <tr>\n",
       "      <th>0</th>\n",
       "      <td>0</td>\n",
       "      <td>life</td>\n",
       "      <td>solid cotton blend collar neck womens a-line d...</td>\n",
       "      <td>Size:Large,Medium,Small,X-Large,X-Small</td>\n",
       "      <td>Rs\\n1699</td>\n",
       "      <td>849</td>\n",
       "      <td>50% off</td>\n",
       "      <td>Westernwear-Women</td>\n",
       "    </tr>\n",
       "    <tr>\n",
       "      <th>1</th>\n",
       "      <td>1</td>\n",
       "      <td>only</td>\n",
       "      <td>polyester peter pan collar womens blouson dres...</td>\n",
       "      <td>Size:34,36,38,40</td>\n",
       "      <td>Rs\\n3499</td>\n",
       "      <td>2449</td>\n",
       "      <td>30% off</td>\n",
       "      <td>Westernwear-Women</td>\n",
       "    </tr>\n",
       "    <tr>\n",
       "      <th>2</th>\n",
       "      <td>2</td>\n",
       "      <td>fratini</td>\n",
       "      <td>solid polyester blend wide neck womens regular...</td>\n",
       "      <td>Size:Large,X-Large,XX-Large</td>\n",
       "      <td>Rs\\n1199</td>\n",
       "      <td>599</td>\n",
       "      <td>50% off</td>\n",
       "      <td>Westernwear-Women</td>\n",
       "    </tr>\n",
       "    <tr>\n",
       "      <th>3</th>\n",
       "      <td>3</td>\n",
       "      <td>zink london</td>\n",
       "      <td>stripes polyester sweetheart neck womens dress...</td>\n",
       "      <td>Size:Large,Medium,Small,X-Large</td>\n",
       "      <td>Rs\\n2299</td>\n",
       "      <td>1379</td>\n",
       "      <td>40% off</td>\n",
       "      <td>Westernwear-Women</td>\n",
       "    </tr>\n",
       "    <tr>\n",
       "      <th>4</th>\n",
       "      <td>4</td>\n",
       "      <td>life</td>\n",
       "      <td>regular fit regular length denim womens jeans ...</td>\n",
       "      <td>Size:26,28,30,32,34,36</td>\n",
       "      <td>Rs\\n1699</td>\n",
       "      <td>849</td>\n",
       "      <td>50% off</td>\n",
       "      <td>Westernwear-Women</td>\n",
       "    </tr>\n",
       "    <tr>\n",
       "      <th>5</th>\n",
       "      <td>5</td>\n",
       "      <td>kraus</td>\n",
       "      <td>wide ankle length cotton womens jeans - light ...</td>\n",
       "      <td>Size:26,28,30,32,34</td>\n",
       "      <td>Rs\\n1795</td>\n",
       "      <td>1615</td>\n",
       "      <td>10% off</td>\n",
       "      <td>Westernwear-Women</td>\n",
       "    </tr>\n",
       "    <tr>\n",
       "      <th>6</th>\n",
       "      <td>6</td>\n",
       "      <td>life</td>\n",
       "      <td>printed cotton blend collared womens regular d...</td>\n",
       "      <td>Size:Large,Medium,Small,X-Large,X-Small</td>\n",
       "      <td>Rs\\n1299</td>\n",
       "      <td>649</td>\n",
       "      <td>50% off</td>\n",
       "      <td>Westernwear-Women</td>\n",
       "    </tr>\n",
       "    <tr>\n",
       "      <th>7</th>\n",
       "      <td>7</td>\n",
       "      <td>fratini</td>\n",
       "      <td>embroidered wide neck polyester womens regular...</td>\n",
       "      <td>Size:XX-Large</td>\n",
       "      <td>Rs\\n1299</td>\n",
       "      <td>649</td>\n",
       "      <td>50% off</td>\n",
       "      <td>Westernwear-Women</td>\n",
       "    </tr>\n",
       "    <tr>\n",
       "      <th>8</th>\n",
       "      <td>8</td>\n",
       "      <td>rare</td>\n",
       "      <td>floral polyester v neck womens flared dress - ...</td>\n",
       "      <td>Size:Large,Medium,Small,X-Large</td>\n",
       "      <td>Rs\\n2099</td>\n",
       "      <td>839</td>\n",
       "      <td>60% off</td>\n",
       "      <td>Westernwear-Women</td>\n",
       "    </tr>\n",
       "    <tr>\n",
       "      <th>9</th>\n",
       "      <td>9</td>\n",
       "      <td>rare</td>\n",
       "      <td>checks cotton boat neck womens regular top - b...</td>\n",
       "      <td>Size:Medium,Small,X-Large</td>\n",
       "      <td>Rs\\n1499</td>\n",
       "      <td>599</td>\n",
       "      <td>60% off</td>\n",
       "      <td>Westernwear-Women</td>\n",
       "    </tr>\n",
       "    <tr>\n",
       "      <th>10</th>\n",
       "      <td>10</td>\n",
       "      <td>life</td>\n",
       "      <td>solid square neck cotton womens regular dress ...</td>\n",
       "      <td>Size:Large,Medium,Small,X-Large,X-Small</td>\n",
       "      <td>Rs\\n1499</td>\n",
       "      <td>749</td>\n",
       "      <td>50% off</td>\n",
       "      <td>Westernwear-Women</td>\n",
       "    </tr>\n",
       "    <tr>\n",
       "      <th>11</th>\n",
       "      <td>11</td>\n",
       "      <td>life</td>\n",
       "      <td>regular fit regular length denim womens jeans ...</td>\n",
       "      <td>Size:26,28,30,32,34,36</td>\n",
       "      <td>Rs\\n999</td>\n",
       "      <td>499</td>\n",
       "      <td>50% off</td>\n",
       "      <td>Westernwear-Women</td>\n",
       "    </tr>\n",
       "    <tr>\n",
       "      <th>12</th>\n",
       "      <td>12</td>\n",
       "      <td>life</td>\n",
       "      <td>printed blended round neck womens shift dress ...</td>\n",
       "      <td>Size:Large,Medium,Small,X-Large,X-Small</td>\n",
       "      <td>Rs\\n1499</td>\n",
       "      <td>749</td>\n",
       "      <td>50% off</td>\n",
       "      <td>Westernwear-Women</td>\n",
       "    </tr>\n",
       "    <tr>\n",
       "      <th>13</th>\n",
       "      <td>13</td>\n",
       "      <td>life</td>\n",
       "      <td>printed jersey round neck womens t-shirt - black</td>\n",
       "      <td>Size:Large,Medium,Small,X-Large,X-Small</td>\n",
       "      <td>Rs\\n599</td>\n",
       "      <td>299</td>\n",
       "      <td>50% off</td>\n",
       "      <td>Westernwear-Women</td>\n",
       "    </tr>\n",
       "    <tr>\n",
       "      <th>14</th>\n",
       "      <td>14</td>\n",
       "      <td>life</td>\n",
       "      <td>printed crepe square neck womens top - blue</td>\n",
       "      <td>Size:Large,Medium,Small,X-Large,X-Small</td>\n",
       "      <td>Rs\\n999</td>\n",
       "      <td>499</td>\n",
       "      <td>50% off</td>\n",
       "      <td>Westernwear-Women</td>\n",
       "    </tr>\n",
       "    <tr>\n",
       "      <th>15</th>\n",
       "      <td>15</td>\n",
       "      <td>life</td>\n",
       "      <td>solid cotton collar neck womens shirt - pink</td>\n",
       "      <td>Size:Large,Medium,Small,X-Large,X-Small</td>\n",
       "      <td>Rs\\n1199</td>\n",
       "      <td>599</td>\n",
       "      <td>50% off</td>\n",
       "      <td>Westernwear-Women</td>\n",
       "    </tr>\n",
       "    <tr>\n",
       "      <th>16</th>\n",
       "      <td>16</td>\n",
       "      <td>life</td>\n",
       "      <td>solid cotton lycra round neck womens t-shirt -...</td>\n",
       "      <td>Size:Large,Medium,Small,X-Small</td>\n",
       "      <td>Rs\\n599</td>\n",
       "      <td>299</td>\n",
       "      <td>50% off</td>\n",
       "      <td>Westernwear-Women</td>\n",
       "    </tr>\n",
       "    <tr>\n",
       "      <th>17</th>\n",
       "      <td>17</td>\n",
       "      <td>life</td>\n",
       "      <td>printed cotton collar neck womens shirt - white</td>\n",
       "      <td>Size:Large,Medium,Small,X-Large,X-Small</td>\n",
       "      <td>Rs\\n1299</td>\n",
       "      <td>649</td>\n",
       "      <td>50% off</td>\n",
       "      <td>Westernwear-Women</td>\n",
       "    </tr>\n",
       "    <tr>\n",
       "      <th>18</th>\n",
       "      <td>18</td>\n",
       "      <td>van heusen</td>\n",
       "      <td>solid cotton v neck womens formal shirt - maroon</td>\n",
       "      <td>Size:Large,Small,X-Small</td>\n",
       "      <td>Rs\\n1999</td>\n",
       "      <td>799</td>\n",
       "      <td>60% off</td>\n",
       "      <td>Westernwear-Women</td>\n",
       "    </tr>\n",
       "    <tr>\n",
       "      <th>19</th>\n",
       "      <td>19</td>\n",
       "      <td>life</td>\n",
       "      <td>regular fit regular length denim womens jeans ...</td>\n",
       "      <td>Size:26,28,30,32,34,36</td>\n",
       "      <td>Rs\\n1999</td>\n",
       "      <td>999</td>\n",
       "      <td>50% off</td>\n",
       "      <td>Westernwear-Women</td>\n",
       "    </tr>\n",
       "  </tbody>\n",
       "</table>\n",
       "</div>"
      ],
      "text/plain": [
       "    Unnamed: 0    BrandName  \\\n",
       "0            0         life   \n",
       "1            1         only   \n",
       "2            2      fratini   \n",
       "3            3  zink london   \n",
       "4            4         life   \n",
       "5            5        kraus   \n",
       "6            6         life   \n",
       "7            7      fratini   \n",
       "8            8         rare   \n",
       "9            9         rare   \n",
       "10          10         life   \n",
       "11          11         life   \n",
       "12          12         life   \n",
       "13          13         life   \n",
       "14          14         life   \n",
       "15          15         life   \n",
       "16          16         life   \n",
       "17          17         life   \n",
       "18          18   van heusen   \n",
       "19          19         life   \n",
       "\n",
       "                                              Deatils  \\\n",
       "0   solid cotton blend collar neck womens a-line d...   \n",
       "1   polyester peter pan collar womens blouson dres...   \n",
       "2   solid polyester blend wide neck womens regular...   \n",
       "3   stripes polyester sweetheart neck womens dress...   \n",
       "4   regular fit regular length denim womens jeans ...   \n",
       "5   wide ankle length cotton womens jeans - light ...   \n",
       "6   printed cotton blend collared womens regular d...   \n",
       "7   embroidered wide neck polyester womens regular...   \n",
       "8   floral polyester v neck womens flared dress - ...   \n",
       "9   checks cotton boat neck womens regular top - b...   \n",
       "10  solid square neck cotton womens regular dress ...   \n",
       "11  regular fit regular length denim womens jeans ...   \n",
       "12  printed blended round neck womens shift dress ...   \n",
       "13   printed jersey round neck womens t-shirt - black   \n",
       "14        printed crepe square neck womens top - blue   \n",
       "15       solid cotton collar neck womens shirt - pink   \n",
       "16  solid cotton lycra round neck womens t-shirt -...   \n",
       "17    printed cotton collar neck womens shirt - white   \n",
       "18   solid cotton v neck womens formal shirt - maroon   \n",
       "19  regular fit regular length denim womens jeans ...   \n",
       "\n",
       "                                      Sizes       MRP SellPrice Discount  \\\n",
       "0   Size:Large,Medium,Small,X-Large,X-Small  Rs\\n1699       849  50% off   \n",
       "1                          Size:34,36,38,40  Rs\\n3499      2449  30% off   \n",
       "2               Size:Large,X-Large,XX-Large  Rs\\n1199       599  50% off   \n",
       "3           Size:Large,Medium,Small,X-Large  Rs\\n2299      1379  40% off   \n",
       "4                    Size:26,28,30,32,34,36  Rs\\n1699       849  50% off   \n",
       "5                       Size:26,28,30,32,34  Rs\\n1795      1615  10% off   \n",
       "6   Size:Large,Medium,Small,X-Large,X-Small  Rs\\n1299       649  50% off   \n",
       "7                             Size:XX-Large  Rs\\n1299       649  50% off   \n",
       "8           Size:Large,Medium,Small,X-Large  Rs\\n2099       839  60% off   \n",
       "9                 Size:Medium,Small,X-Large  Rs\\n1499       599  60% off   \n",
       "10  Size:Large,Medium,Small,X-Large,X-Small  Rs\\n1499       749  50% off   \n",
       "11                   Size:26,28,30,32,34,36   Rs\\n999       499  50% off   \n",
       "12  Size:Large,Medium,Small,X-Large,X-Small  Rs\\n1499       749  50% off   \n",
       "13  Size:Large,Medium,Small,X-Large,X-Small   Rs\\n599       299  50% off   \n",
       "14  Size:Large,Medium,Small,X-Large,X-Small   Rs\\n999       499  50% off   \n",
       "15  Size:Large,Medium,Small,X-Large,X-Small  Rs\\n1199       599  50% off   \n",
       "16          Size:Large,Medium,Small,X-Small   Rs\\n599       299  50% off   \n",
       "17  Size:Large,Medium,Small,X-Large,X-Small  Rs\\n1299       649  50% off   \n",
       "18                 Size:Large,Small,X-Small  Rs\\n1999       799  60% off   \n",
       "19                   Size:26,28,30,32,34,36  Rs\\n1999       999  50% off   \n",
       "\n",
       "             Category  \n",
       "0   Westernwear-Women  \n",
       "1   Westernwear-Women  \n",
       "2   Westernwear-Women  \n",
       "3   Westernwear-Women  \n",
       "4   Westernwear-Women  \n",
       "5   Westernwear-Women  \n",
       "6   Westernwear-Women  \n",
       "7   Westernwear-Women  \n",
       "8   Westernwear-Women  \n",
       "9   Westernwear-Women  \n",
       "10  Westernwear-Women  \n",
       "11  Westernwear-Women  \n",
       "12  Westernwear-Women  \n",
       "13  Westernwear-Women  \n",
       "14  Westernwear-Women  \n",
       "15  Westernwear-Women  \n",
       "16  Westernwear-Women  \n",
       "17  Westernwear-Women  \n",
       "18  Westernwear-Women  \n",
       "19  Westernwear-Women  "
      ]
     },
     "execution_count": 6,
     "metadata": {},
     "output_type": "execute_result"
    }
   ],
   "source": [
    "data.head(20)"
   ]
  },
  {
   "cell_type": "code",
   "execution_count": 7,
   "metadata": {
    "colab": {
     "base_uri": "https://localhost:8080/",
     "height": 354
    },
    "id": "-lkx3Vh8ZXQ2",
    "outputId": "6cc3afc9-0e51-491b-92ff-1a74967e8186"
   },
   "outputs": [
    {
     "data": {
      "text/html": [
       "<div>\n",
       "<style scoped>\n",
       "    .dataframe tbody tr th:only-of-type {\n",
       "        vertical-align: middle;\n",
       "    }\n",
       "\n",
       "    .dataframe tbody tr th {\n",
       "        vertical-align: top;\n",
       "    }\n",
       "\n",
       "    .dataframe thead th {\n",
       "        text-align: right;\n",
       "    }\n",
       "</style>\n",
       "<table border=\"1\" class=\"dataframe\">\n",
       "  <thead>\n",
       "    <tr style=\"text-align: right;\">\n",
       "      <th></th>\n",
       "      <th>Unnamed: 0</th>\n",
       "      <th>BrandName</th>\n",
       "      <th>Deatils</th>\n",
       "      <th>Sizes</th>\n",
       "      <th>MRP</th>\n",
       "      <th>SellPrice</th>\n",
       "      <th>Discount</th>\n",
       "      <th>Category</th>\n",
       "    </tr>\n",
       "  </thead>\n",
       "  <tbody>\n",
       "    <tr>\n",
       "      <th>30753</th>\n",
       "      <td>21</td>\n",
       "      <td>swarovski</td>\n",
       "      <td>crystal stylish womens rodhium earrings</td>\n",
       "      <td>Nan</td>\n",
       "      <td>Nan</td>\n",
       "      <td>8950</td>\n",
       "      <td>Nan</td>\n",
       "      <td>Jewellery-Women</td>\n",
       "    </tr>\n",
       "    <tr>\n",
       "      <th>30754</th>\n",
       "      <td>22</td>\n",
       "      <td>Nan</td>\n",
       "      <td>Nan</td>\n",
       "      <td>Nan</td>\n",
       "      <td>Nan</td>\n",
       "      <td>Nan</td>\n",
       "      <td>Nan</td>\n",
       "      <td>Jewellery-Women</td>\n",
       "    </tr>\n",
       "    <tr>\n",
       "      <th>30755</th>\n",
       "      <td>23</td>\n",
       "      <td>jewelz</td>\n",
       "      <td>ethnic gold plated jhumki earrings</td>\n",
       "      <td>Nan</td>\n",
       "      <td>Rs\\n1839</td>\n",
       "      <td>643</td>\n",
       "      <td>65% off</td>\n",
       "      <td>Jewellery-Women</td>\n",
       "    </tr>\n",
       "    <tr>\n",
       "      <th>30756</th>\n",
       "      <td>24</td>\n",
       "      <td>estelle</td>\n",
       "      <td>womens gold plated double line fancy white and...</td>\n",
       "      <td>Nan</td>\n",
       "      <td>Nan</td>\n",
       "      <td>2799</td>\n",
       "      <td>Nan</td>\n",
       "      <td>Jewellery-Women</td>\n",
       "    </tr>\n",
       "    <tr>\n",
       "      <th>30757</th>\n",
       "      <td>25</td>\n",
       "      <td>estelle</td>\n",
       "      <td>womens gold plated bridge designer mangalsutra...</td>\n",
       "      <td>Nan</td>\n",
       "      <td>Nan</td>\n",
       "      <td>1899</td>\n",
       "      <td>Nan</td>\n",
       "      <td>Jewellery-Women</td>\n",
       "    </tr>\n",
       "  </tbody>\n",
       "</table>\n",
       "</div>"
      ],
      "text/plain": [
       "       Unnamed: 0  BrandName  \\\n",
       "30753          21  swarovski   \n",
       "30754          22        Nan   \n",
       "30755          23     jewelz   \n",
       "30756          24    estelle   \n",
       "30757          25    estelle   \n",
       "\n",
       "                                                 Deatils Sizes       MRP  \\\n",
       "30753            crystal stylish womens rodhium earrings   Nan       Nan   \n",
       "30754                                                Nan   Nan       Nan   \n",
       "30755                 ethnic gold plated jhumki earrings   Nan  Rs\\n1839   \n",
       "30756  womens gold plated double line fancy white and...   Nan       Nan   \n",
       "30757  womens gold plated bridge designer mangalsutra...   Nan       Nan   \n",
       "\n",
       "      SellPrice Discount         Category  \n",
       "30753      8950      Nan  Jewellery-Women  \n",
       "30754       Nan      Nan  Jewellery-Women  \n",
       "30755       643  65% off  Jewellery-Women  \n",
       "30756      2799      Nan  Jewellery-Women  \n",
       "30757      1899      Nan  Jewellery-Women  "
      ]
     },
     "execution_count": 7,
     "metadata": {},
     "output_type": "execute_result"
    }
   ],
   "source": [
    "data.tail()"
   ]
  },
  {
   "cell_type": "code",
   "execution_count": 8,
   "metadata": {
    "colab": {
     "base_uri": "https://localhost:8080/",
     "height": 1000
    },
    "id": "Aa9w-9lMZf71",
    "outputId": "9c91cd29-592d-4271-efa1-7236100e3408"
   },
   "outputs": [
    {
     "data": {
      "text/html": [
       "<div>\n",
       "<style scoped>\n",
       "    .dataframe tbody tr th:only-of-type {\n",
       "        vertical-align: middle;\n",
       "    }\n",
       "\n",
       "    .dataframe tbody tr th {\n",
       "        vertical-align: top;\n",
       "    }\n",
       "\n",
       "    .dataframe thead th {\n",
       "        text-align: right;\n",
       "    }\n",
       "</style>\n",
       "<table border=\"1\" class=\"dataframe\">\n",
       "  <thead>\n",
       "    <tr style=\"text-align: right;\">\n",
       "      <th></th>\n",
       "      <th>Unnamed: 0</th>\n",
       "      <th>BrandName</th>\n",
       "      <th>Deatils</th>\n",
       "      <th>Sizes</th>\n",
       "      <th>MRP</th>\n",
       "      <th>SellPrice</th>\n",
       "      <th>Discount</th>\n",
       "      <th>Category</th>\n",
       "    </tr>\n",
       "  </thead>\n",
       "  <tbody>\n",
       "    <tr>\n",
       "      <th>30738</th>\n",
       "      <td>6</td>\n",
       "      <td>belleziya</td>\n",
       "      <td>combo pack set of 9 gold earrings and set of 3...</td>\n",
       "      <td>Nan</td>\n",
       "      <td>Nan</td>\n",
       "      <td>1699</td>\n",
       "      <td>Nan</td>\n",
       "      <td>Jewellery-Women</td>\n",
       "    </tr>\n",
       "    <tr>\n",
       "      <th>30739</th>\n",
       "      <td>7</td>\n",
       "      <td>clara</td>\n",
       "      <td>925 silver real pearl aki pendant with chain n...</td>\n",
       "      <td>Nan</td>\n",
       "      <td>Rs\\n2199</td>\n",
       "      <td>2089</td>\n",
       "      <td>5% off</td>\n",
       "      <td>Jewellery-Women</td>\n",
       "    </tr>\n",
       "    <tr>\n",
       "      <th>30740</th>\n",
       "      <td>8</td>\n",
       "      <td>ayesha</td>\n",
       "      <td>womens metallic silver double drop with black ...</td>\n",
       "      <td>Nan</td>\n",
       "      <td>Rs\\n298</td>\n",
       "      <td>149</td>\n",
       "      <td>50% off</td>\n",
       "      <td>Jewellery-Women</td>\n",
       "    </tr>\n",
       "    <tr>\n",
       "      <th>30741</th>\n",
       "      <td>9</td>\n",
       "      <td>clara</td>\n",
       "      <td>womens 925 sterling silver poppy mangalsutra t...</td>\n",
       "      <td>Nan</td>\n",
       "      <td>Rs\\n2699</td>\n",
       "      <td>2564</td>\n",
       "      <td>5% off</td>\n",
       "      <td>Jewellery-Women</td>\n",
       "    </tr>\n",
       "    <tr>\n",
       "      <th>30742</th>\n",
       "      <td>10</td>\n",
       "      <td>fossil</td>\n",
       "      <td>vintage motifs multicolor bracelet - jf02854998</td>\n",
       "      <td>Nan</td>\n",
       "      <td>Nan</td>\n",
       "      <td>4195</td>\n",
       "      <td>Nan</td>\n",
       "      <td>Jewellery-Women</td>\n",
       "    </tr>\n",
       "    <tr>\n",
       "      <th>30743</th>\n",
       "      <td>11</td>\n",
       "      <td>giva</td>\n",
       "      <td>cubic zirconia silver push back clasp womens e...</td>\n",
       "      <td>Nan</td>\n",
       "      <td>Rs\\n1699</td>\n",
       "      <td>1614</td>\n",
       "      <td>5% off</td>\n",
       "      <td>Jewellery-Women</td>\n",
       "    </tr>\n",
       "    <tr>\n",
       "      <th>30744</th>\n",
       "      <td>12</td>\n",
       "      <td>pretty women</td>\n",
       "      <td>womens jad/pearl golden chain - yellow</td>\n",
       "      <td>Nan</td>\n",
       "      <td>Rs\\n499</td>\n",
       "      <td>424</td>\n",
       "      <td>15% off</td>\n",
       "      <td>Jewellery-Women</td>\n",
       "    </tr>\n",
       "    <tr>\n",
       "      <th>30745</th>\n",
       "      <td>13</td>\n",
       "      <td>estelle</td>\n",
       "      <td>womens candy bracelet with white american diam...</td>\n",
       "      <td>Nan</td>\n",
       "      <td>Nan</td>\n",
       "      <td>1299</td>\n",
       "      <td>Nan</td>\n",
       "      <td>Jewellery-Women</td>\n",
       "    </tr>\n",
       "    <tr>\n",
       "      <th>30746</th>\n",
       "      <td>14</td>\n",
       "      <td>jewelz</td>\n",
       "      <td>beautiful white crystal silver plated earrings</td>\n",
       "      <td>Nan</td>\n",
       "      <td>Rs\\n1739</td>\n",
       "      <td>608</td>\n",
       "      <td>65% off</td>\n",
       "      <td>Jewellery-Women</td>\n",
       "    </tr>\n",
       "    <tr>\n",
       "      <th>30747</th>\n",
       "      <td>15</td>\n",
       "      <td>ayesha</td>\n",
       "      <td>womens metallic gold statement multilayered ch...</td>\n",
       "      <td>Nan</td>\n",
       "      <td>Rs\\n798</td>\n",
       "      <td>399</td>\n",
       "      <td>50% off</td>\n",
       "      <td>Jewellery-Women</td>\n",
       "    </tr>\n",
       "    <tr>\n",
       "      <th>30748</th>\n",
       "      <td>16</td>\n",
       "      <td>jewelz</td>\n",
       "      <td>nine pieces combo fashion non-precious metal b...</td>\n",
       "      <td>Nan</td>\n",
       "      <td>Rs\\n1339</td>\n",
       "      <td>468</td>\n",
       "      <td>65% off</td>\n",
       "      <td>Jewellery-Women</td>\n",
       "    </tr>\n",
       "    <tr>\n",
       "      <th>30749</th>\n",
       "      <td>17</td>\n",
       "      <td>pretty women</td>\n",
       "      <td>womens pearl golden drops</td>\n",
       "      <td>Nan</td>\n",
       "      <td>Rs\\n449</td>\n",
       "      <td>381</td>\n",
       "      <td>15% off</td>\n",
       "      <td>Jewellery-Women</td>\n",
       "    </tr>\n",
       "    <tr>\n",
       "      <th>30750</th>\n",
       "      <td>18</td>\n",
       "      <td>tribe amrapali</td>\n",
       "      <td>sterling silver oval turquoise ear studs</td>\n",
       "      <td>Nan</td>\n",
       "      <td>Nan</td>\n",
       "      <td>1030</td>\n",
       "      <td>Nan</td>\n",
       "      <td>Jewellery-Women</td>\n",
       "    </tr>\n",
       "    <tr>\n",
       "      <th>30751</th>\n",
       "      <td>19</td>\n",
       "      <td>swarovski</td>\n",
       "      <td>constella stylish crystal white pierced earrings</td>\n",
       "      <td>Nan</td>\n",
       "      <td>Nan</td>\n",
       "      <td>8950</td>\n",
       "      <td>Nan</td>\n",
       "      <td>Jewellery-Women</td>\n",
       "    </tr>\n",
       "    <tr>\n",
       "      <th>30752</th>\n",
       "      <td>20</td>\n",
       "      <td>shaya by caratlane</td>\n",
       "      <td>the wing woman clover charm necklace</td>\n",
       "      <td>Nan</td>\n",
       "      <td>Nan</td>\n",
       "      <td>1250</td>\n",
       "      <td>Nan</td>\n",
       "      <td>Jewellery-Women</td>\n",
       "    </tr>\n",
       "    <tr>\n",
       "      <th>30753</th>\n",
       "      <td>21</td>\n",
       "      <td>swarovski</td>\n",
       "      <td>crystal stylish womens rodhium earrings</td>\n",
       "      <td>Nan</td>\n",
       "      <td>Nan</td>\n",
       "      <td>8950</td>\n",
       "      <td>Nan</td>\n",
       "      <td>Jewellery-Women</td>\n",
       "    </tr>\n",
       "    <tr>\n",
       "      <th>30754</th>\n",
       "      <td>22</td>\n",
       "      <td>Nan</td>\n",
       "      <td>Nan</td>\n",
       "      <td>Nan</td>\n",
       "      <td>Nan</td>\n",
       "      <td>Nan</td>\n",
       "      <td>Nan</td>\n",
       "      <td>Jewellery-Women</td>\n",
       "    </tr>\n",
       "    <tr>\n",
       "      <th>30755</th>\n",
       "      <td>23</td>\n",
       "      <td>jewelz</td>\n",
       "      <td>ethnic gold plated jhumki earrings</td>\n",
       "      <td>Nan</td>\n",
       "      <td>Rs\\n1839</td>\n",
       "      <td>643</td>\n",
       "      <td>65% off</td>\n",
       "      <td>Jewellery-Women</td>\n",
       "    </tr>\n",
       "    <tr>\n",
       "      <th>30756</th>\n",
       "      <td>24</td>\n",
       "      <td>estelle</td>\n",
       "      <td>womens gold plated double line fancy white and...</td>\n",
       "      <td>Nan</td>\n",
       "      <td>Nan</td>\n",
       "      <td>2799</td>\n",
       "      <td>Nan</td>\n",
       "      <td>Jewellery-Women</td>\n",
       "    </tr>\n",
       "    <tr>\n",
       "      <th>30757</th>\n",
       "      <td>25</td>\n",
       "      <td>estelle</td>\n",
       "      <td>womens gold plated bridge designer mangalsutra...</td>\n",
       "      <td>Nan</td>\n",
       "      <td>Nan</td>\n",
       "      <td>1899</td>\n",
       "      <td>Nan</td>\n",
       "      <td>Jewellery-Women</td>\n",
       "    </tr>\n",
       "  </tbody>\n",
       "</table>\n",
       "</div>"
      ],
      "text/plain": [
       "       Unnamed: 0           BrandName  \\\n",
       "30738           6           belleziya   \n",
       "30739           7               clara   \n",
       "30740           8              ayesha   \n",
       "30741           9               clara   \n",
       "30742          10              fossil   \n",
       "30743          11                giva   \n",
       "30744          12        pretty women   \n",
       "30745          13             estelle   \n",
       "30746          14              jewelz   \n",
       "30747          15              ayesha   \n",
       "30748          16              jewelz   \n",
       "30749          17        pretty women   \n",
       "30750          18      tribe amrapali   \n",
       "30751          19           swarovski   \n",
       "30752          20  shaya by caratlane   \n",
       "30753          21           swarovski   \n",
       "30754          22                 Nan   \n",
       "30755          23              jewelz   \n",
       "30756          24             estelle   \n",
       "30757          25             estelle   \n",
       "\n",
       "                                                 Deatils Sizes       MRP  \\\n",
       "30738  combo pack set of 9 gold earrings and set of 3...   Nan       Nan   \n",
       "30739  925 silver real pearl aki pendant with chain n...   Nan  Rs\\n2199   \n",
       "30740  womens metallic silver double drop with black ...   Nan   Rs\\n298   \n",
       "30741  womens 925 sterling silver poppy mangalsutra t...   Nan  Rs\\n2699   \n",
       "30742    vintage motifs multicolor bracelet - jf02854998   Nan       Nan   \n",
       "30743  cubic zirconia silver push back clasp womens e...   Nan  Rs\\n1699   \n",
       "30744             womens jad/pearl golden chain - yellow   Nan   Rs\\n499   \n",
       "30745  womens candy bracelet with white american diam...   Nan       Nan   \n",
       "30746     beautiful white crystal silver plated earrings   Nan  Rs\\n1739   \n",
       "30747  womens metallic gold statement multilayered ch...   Nan   Rs\\n798   \n",
       "30748  nine pieces combo fashion non-precious metal b...   Nan  Rs\\n1339   \n",
       "30749                          womens pearl golden drops   Nan   Rs\\n449   \n",
       "30750           sterling silver oval turquoise ear studs   Nan       Nan   \n",
       "30751   constella stylish crystal white pierced earrings   Nan       Nan   \n",
       "30752               the wing woman clover charm necklace   Nan       Nan   \n",
       "30753            crystal stylish womens rodhium earrings   Nan       Nan   \n",
       "30754                                                Nan   Nan       Nan   \n",
       "30755                 ethnic gold plated jhumki earrings   Nan  Rs\\n1839   \n",
       "30756  womens gold plated double line fancy white and...   Nan       Nan   \n",
       "30757  womens gold plated bridge designer mangalsutra...   Nan       Nan   \n",
       "\n",
       "      SellPrice Discount         Category  \n",
       "30738      1699      Nan  Jewellery-Women  \n",
       "30739      2089   5% off  Jewellery-Women  \n",
       "30740       149  50% off  Jewellery-Women  \n",
       "30741      2564   5% off  Jewellery-Women  \n",
       "30742      4195      Nan  Jewellery-Women  \n",
       "30743      1614   5% off  Jewellery-Women  \n",
       "30744       424  15% off  Jewellery-Women  \n",
       "30745      1299      Nan  Jewellery-Women  \n",
       "30746       608  65% off  Jewellery-Women  \n",
       "30747       399  50% off  Jewellery-Women  \n",
       "30748       468  65% off  Jewellery-Women  \n",
       "30749       381  15% off  Jewellery-Women  \n",
       "30750      1030      Nan  Jewellery-Women  \n",
       "30751      8950      Nan  Jewellery-Women  \n",
       "30752      1250      Nan  Jewellery-Women  \n",
       "30753      8950      Nan  Jewellery-Women  \n",
       "30754       Nan      Nan  Jewellery-Women  \n",
       "30755       643  65% off  Jewellery-Women  \n",
       "30756      2799      Nan  Jewellery-Women  \n",
       "30757      1899      Nan  Jewellery-Women  "
      ]
     },
     "execution_count": 8,
     "metadata": {},
     "output_type": "execute_result"
    }
   ],
   "source": [
    "data.tail(20)"
   ]
  },
  {
   "cell_type": "code",
   "execution_count": 7,
   "metadata": {
    "colab": {
     "base_uri": "https://localhost:8080/"
    },
    "id": "Tt_uV-8WZqpW",
    "outputId": "4680fcc8-9630-4dbb-8851-59fceb193cc3"
   },
   "outputs": [
    {
     "data": {
      "text/plain": [
       "(30758, 8)"
      ]
     },
     "execution_count": 7,
     "metadata": {},
     "output_type": "execute_result"
    }
   ],
   "source": [
    "data.shape"
   ]
  },
  {
   "cell_type": "code",
   "execution_count": 8,
   "metadata": {
    "colab": {
     "base_uri": "https://localhost:8080/"
    },
    "id": "lO2t85eCbeim",
    "outputId": "77528af2-d0b5-46e0-cc59-78d93516c091"
   },
   "outputs": [
    {
     "data": {
      "text/plain": [
       "Index(['Unnamed: 0', 'BrandName', 'Deatils', 'Sizes', 'MRP', 'SellPrice',\n",
       "       'Discount', 'Category'],\n",
       "      dtype='object')"
      ]
     },
     "execution_count": 8,
     "metadata": {},
     "output_type": "execute_result"
    }
   ],
   "source": [
    "data.columns"
   ]
  },
  {
   "cell_type": "code",
   "execution_count": 9,
   "metadata": {
    "colab": {
     "base_uri": "https://localhost:8080/"
    },
    "id": "T0vlqgo6brqs",
    "outputId": "304d774e-1184-4cbc-bb5b-81929e682ce8"
   },
   "outputs": [
    {
     "data": {
      "text/plain": [
       "Unnamed: 0     int64\n",
       "BrandName     object\n",
       "Deatils       object\n",
       "Sizes         object\n",
       "MRP           object\n",
       "SellPrice     object\n",
       "Discount      object\n",
       "Category      object\n",
       "dtype: object"
      ]
     },
     "execution_count": 9,
     "metadata": {},
     "output_type": "execute_result"
    }
   ],
   "source": [
    "data.dtypes"
   ]
  },
  {
   "cell_type": "code",
   "execution_count": 10,
   "metadata": {
    "id": "Yak7HEFHcGlD"
   },
   "outputs": [],
   "source": [
    "data.drop(columns=['Unnamed: 0'], inplace=True)"
   ]
  },
  {
   "cell_type": "code",
   "execution_count": 11,
   "metadata": {
    "colab": {
     "base_uri": "https://localhost:8080/",
     "height": 337
    },
    "id": "E3kqK-8fcdVM",
    "outputId": "5852c870-b18e-4a1f-a49e-a3c44772ef44"
   },
   "outputs": [
    {
     "data": {
      "text/html": [
       "<div>\n",
       "<style scoped>\n",
       "    .dataframe tbody tr th:only-of-type {\n",
       "        vertical-align: middle;\n",
       "    }\n",
       "\n",
       "    .dataframe tbody tr th {\n",
       "        vertical-align: top;\n",
       "    }\n",
       "\n",
       "    .dataframe thead th {\n",
       "        text-align: right;\n",
       "    }\n",
       "</style>\n",
       "<table border=\"1\" class=\"dataframe\">\n",
       "  <thead>\n",
       "    <tr style=\"text-align: right;\">\n",
       "      <th></th>\n",
       "      <th>BrandName</th>\n",
       "      <th>Deatils</th>\n",
       "      <th>Sizes</th>\n",
       "      <th>MRP</th>\n",
       "      <th>SellPrice</th>\n",
       "      <th>Discount</th>\n",
       "      <th>Category</th>\n",
       "    </tr>\n",
       "  </thead>\n",
       "  <tbody>\n",
       "    <tr>\n",
       "      <th>0</th>\n",
       "      <td>life</td>\n",
       "      <td>solid cotton blend collar neck womens a-line d...</td>\n",
       "      <td>Size:Large,Medium,Small,X-Large,X-Small</td>\n",
       "      <td>Rs\\n1699</td>\n",
       "      <td>849</td>\n",
       "      <td>50% off</td>\n",
       "      <td>Westernwear-Women</td>\n",
       "    </tr>\n",
       "    <tr>\n",
       "      <th>1</th>\n",
       "      <td>only</td>\n",
       "      <td>polyester peter pan collar womens blouson dres...</td>\n",
       "      <td>Size:34,36,38,40</td>\n",
       "      <td>Rs\\n3499</td>\n",
       "      <td>2449</td>\n",
       "      <td>30% off</td>\n",
       "      <td>Westernwear-Women</td>\n",
       "    </tr>\n",
       "    <tr>\n",
       "      <th>2</th>\n",
       "      <td>fratini</td>\n",
       "      <td>solid polyester blend wide neck womens regular...</td>\n",
       "      <td>Size:Large,X-Large,XX-Large</td>\n",
       "      <td>Rs\\n1199</td>\n",
       "      <td>599</td>\n",
       "      <td>50% off</td>\n",
       "      <td>Westernwear-Women</td>\n",
       "    </tr>\n",
       "    <tr>\n",
       "      <th>3</th>\n",
       "      <td>zink london</td>\n",
       "      <td>stripes polyester sweetheart neck womens dress...</td>\n",
       "      <td>Size:Large,Medium,Small,X-Large</td>\n",
       "      <td>Rs\\n2299</td>\n",
       "      <td>1379</td>\n",
       "      <td>40% off</td>\n",
       "      <td>Westernwear-Women</td>\n",
       "    </tr>\n",
       "    <tr>\n",
       "      <th>4</th>\n",
       "      <td>life</td>\n",
       "      <td>regular fit regular length denim womens jeans ...</td>\n",
       "      <td>Size:26,28,30,32,34,36</td>\n",
       "      <td>Rs\\n1699</td>\n",
       "      <td>849</td>\n",
       "      <td>50% off</td>\n",
       "      <td>Westernwear-Women</td>\n",
       "    </tr>\n",
       "  </tbody>\n",
       "</table>\n",
       "</div>"
      ],
      "text/plain": [
       "     BrandName                                            Deatils  \\\n",
       "0         life  solid cotton blend collar neck womens a-line d...   \n",
       "1         only  polyester peter pan collar womens blouson dres...   \n",
       "2      fratini  solid polyester blend wide neck womens regular...   \n",
       "3  zink london  stripes polyester sweetheart neck womens dress...   \n",
       "4         life  regular fit regular length denim womens jeans ...   \n",
       "\n",
       "                                     Sizes       MRP SellPrice Discount  \\\n",
       "0  Size:Large,Medium,Small,X-Large,X-Small  Rs\\n1699       849  50% off   \n",
       "1                         Size:34,36,38,40  Rs\\n3499      2449  30% off   \n",
       "2              Size:Large,X-Large,XX-Large  Rs\\n1199       599  50% off   \n",
       "3          Size:Large,Medium,Small,X-Large  Rs\\n2299      1379  40% off   \n",
       "4                   Size:26,28,30,32,34,36  Rs\\n1699       849  50% off   \n",
       "\n",
       "            Category  \n",
       "0  Westernwear-Women  \n",
       "1  Westernwear-Women  \n",
       "2  Westernwear-Women  \n",
       "3  Westernwear-Women  \n",
       "4  Westernwear-Women  "
      ]
     },
     "execution_count": 11,
     "metadata": {},
     "output_type": "execute_result"
    }
   ],
   "source": [
    "data.head()"
   ]
  },
  {
   "cell_type": "code",
   "execution_count": 12,
   "metadata": {
    "colab": {
     "base_uri": "https://localhost:8080/"
    },
    "id": "SsY7HQOJcil1",
    "outputId": "33dd270f-988d-4218-fbf9-be9dda6c3ddf"
   },
   "outputs": [
    {
     "data": {
      "text/plain": [
       "BrandName    0\n",
       "Deatils      0\n",
       "Sizes        0\n",
       "MRP          0\n",
       "SellPrice    0\n",
       "Discount     0\n",
       "Category     0\n",
       "dtype: int64"
      ]
     },
     "execution_count": 12,
     "metadata": {},
     "output_type": "execute_result"
    }
   ],
   "source": [
    "data.isnull().sum()"
   ]
  },
  {
   "cell_type": "code",
   "execution_count": 13,
   "metadata": {
    "colab": {
     "base_uri": "https://localhost:8080/",
     "height": 175
    },
    "id": "xmIyES5YdMf0",
    "outputId": "5d89719a-a9fa-4c4a-864e-5d210e4fdcf1"
   },
   "outputs": [
    {
     "data": {
      "text/html": [
       "<div>\n",
       "<style scoped>\n",
       "    .dataframe tbody tr th:only-of-type {\n",
       "        vertical-align: middle;\n",
       "    }\n",
       "\n",
       "    .dataframe tbody tr th {\n",
       "        vertical-align: top;\n",
       "    }\n",
       "\n",
       "    .dataframe thead th {\n",
       "        text-align: right;\n",
       "    }\n",
       "</style>\n",
       "<table border=\"1\" class=\"dataframe\">\n",
       "  <thead>\n",
       "    <tr style=\"text-align: right;\">\n",
       "      <th></th>\n",
       "      <th>BrandName</th>\n",
       "      <th>Deatils</th>\n",
       "      <th>Sizes</th>\n",
       "      <th>MRP</th>\n",
       "      <th>SellPrice</th>\n",
       "      <th>Discount</th>\n",
       "      <th>Category</th>\n",
       "    </tr>\n",
       "  </thead>\n",
       "  <tbody>\n",
       "    <tr>\n",
       "      <th>count</th>\n",
       "      <td>30758</td>\n",
       "      <td>30758</td>\n",
       "      <td>30758</td>\n",
       "      <td>30758</td>\n",
       "      <td>30758</td>\n",
       "      <td>30758</td>\n",
       "      <td>30758</td>\n",
       "    </tr>\n",
       "    <tr>\n",
       "      <th>unique</th>\n",
       "      <td>275</td>\n",
       "      <td>23877</td>\n",
       "      <td>1172</td>\n",
       "      <td>1097</td>\n",
       "      <td>2046</td>\n",
       "      <td>66</td>\n",
       "      <td>7</td>\n",
       "    </tr>\n",
       "    <tr>\n",
       "      <th>top</th>\n",
       "      <td>vastranand</td>\n",
       "      <td>Nan</td>\n",
       "      <td>Nan</td>\n",
       "      <td>Nan</td>\n",
       "      <td>Nan</td>\n",
       "      <td>Nan</td>\n",
       "      <td>Westernwear-Women</td>\n",
       "    </tr>\n",
       "    <tr>\n",
       "      <th>freq</th>\n",
       "      <td>1543</td>\n",
       "      <td>1183</td>\n",
       "      <td>7501</td>\n",
       "      <td>8208</td>\n",
       "      <td>1183</td>\n",
       "      <td>8208</td>\n",
       "      <td>10374</td>\n",
       "    </tr>\n",
       "  </tbody>\n",
       "</table>\n",
       "</div>"
      ],
      "text/plain": [
       "         BrandName Deatils  Sizes    MRP SellPrice Discount           Category\n",
       "count        30758   30758  30758  30758     30758    30758              30758\n",
       "unique         275   23877   1172   1097      2046       66                  7\n",
       "top     vastranand     Nan    Nan    Nan       Nan      Nan  Westernwear-Women\n",
       "freq          1543    1183   7501   8208      1183     8208              10374"
      ]
     },
     "execution_count": 13,
     "metadata": {},
     "output_type": "execute_result"
    }
   ],
   "source": [
    "data.describe(include=\"all\")"
   ]
  },
  {
   "cell_type": "code",
   "execution_count": 16,
   "metadata": {
    "colab": {
     "base_uri": "https://localhost:8080/"
    },
    "id": "fq8XYtIYdaGr",
    "outputId": "9e32b3ed-84a1-4e7f-fdd4-6a1b6ca97911"
   },
   "outputs": [
    {
     "data": {
      "text/plain": [
       "BrandName    object\n",
       "Deatils      object\n",
       "Sizes        object\n",
       "MRP          object\n",
       "SellPrice    object\n",
       "Discount     object\n",
       "Category     object\n",
       "dtype: object"
      ]
     },
     "execution_count": 16,
     "metadata": {},
     "output_type": "execute_result"
    }
   ],
   "source": [
    "data.dtypes"
   ]
  },
  {
   "cell_type": "code",
   "execution_count": 14,
   "metadata": {
    "colab": {
     "base_uri": "https://localhost:8080/"
    },
    "id": "JGbGdShGd7l4",
    "outputId": "f55274b5-dd5d-448a-9e25-94467a1415f7"
   },
   "outputs": [
    {
     "data": {
      "text/plain": [
       "0        Rs\\n1699\n",
       "1        Rs\\n3499\n",
       "2        Rs\\n1199\n",
       "3        Rs\\n2299\n",
       "4        Rs\\n1699\n",
       "           ...   \n",
       "30753         Nan\n",
       "30754         Nan\n",
       "30755    Rs\\n1839\n",
       "30756         Nan\n",
       "30757         Nan\n",
       "Name: MRP, Length: 30758, dtype: object"
      ]
     },
     "execution_count": 14,
     "metadata": {},
     "output_type": "execute_result"
    }
   ],
   "source": [
    "data.MRP"
   ]
  },
  {
   "cell_type": "code",
   "execution_count": 16,
   "metadata": {
    "colab": {
     "base_uri": "https://localhost:8080/"
    },
    "id": "GCOpaX2fdfl0",
    "outputId": "2345da70-e2f3-4138-e4d4-feb67d664f3e"
   },
   "outputs": [
    {
     "data": {
      "text/plain": [
       "0        Rs\\n1699\n",
       "1        Rs\\n3499\n",
       "2        Rs\\n1199\n",
       "3        Rs\\n2299\n",
       "4        Rs\\n1699\n",
       "           ...   \n",
       "30753         Nan\n",
       "30754         Nan\n",
       "30755    Rs\\n1839\n",
       "30756         Nan\n",
       "30757         Nan\n",
       "Name: MRP, Length: 30758, dtype: object"
      ]
     },
     "execution_count": 16,
     "metadata": {},
     "output_type": "execute_result"
    }
   ],
   "source": [
    "data['MRP']"
   ]
  },
  {
   "cell_type": "code",
   "execution_count": 17,
   "metadata": {
    "id": "vEaZZb0Qd_dS"
   },
   "outputs": [],
   "source": [
    "data['MRP'] = data['MRP'].str.replace('Rs\\n','')"
   ]
  },
  {
   "cell_type": "code",
   "execution_count": 18,
   "metadata": {
    "colab": {
     "base_uri": "https://localhost:8080/",
     "height": 337
    },
    "id": "mkqDqBGseLJr",
    "outputId": "36f5f618-f01d-4dc7-a05b-8c818a34a089"
   },
   "outputs": [
    {
     "data": {
      "text/html": [
       "<div>\n",
       "<style scoped>\n",
       "    .dataframe tbody tr th:only-of-type {\n",
       "        vertical-align: middle;\n",
       "    }\n",
       "\n",
       "    .dataframe tbody tr th {\n",
       "        vertical-align: top;\n",
       "    }\n",
       "\n",
       "    .dataframe thead th {\n",
       "        text-align: right;\n",
       "    }\n",
       "</style>\n",
       "<table border=\"1\" class=\"dataframe\">\n",
       "  <thead>\n",
       "    <tr style=\"text-align: right;\">\n",
       "      <th></th>\n",
       "      <th>BrandName</th>\n",
       "      <th>Deatils</th>\n",
       "      <th>Sizes</th>\n",
       "      <th>MRP</th>\n",
       "      <th>SellPrice</th>\n",
       "      <th>Discount</th>\n",
       "      <th>Category</th>\n",
       "    </tr>\n",
       "  </thead>\n",
       "  <tbody>\n",
       "    <tr>\n",
       "      <th>0</th>\n",
       "      <td>life</td>\n",
       "      <td>solid cotton blend collar neck womens a-line d...</td>\n",
       "      <td>Size:Large,Medium,Small,X-Large,X-Small</td>\n",
       "      <td>1699</td>\n",
       "      <td>849</td>\n",
       "      <td>50% off</td>\n",
       "      <td>Westernwear-Women</td>\n",
       "    </tr>\n",
       "    <tr>\n",
       "      <th>1</th>\n",
       "      <td>only</td>\n",
       "      <td>polyester peter pan collar womens blouson dres...</td>\n",
       "      <td>Size:34,36,38,40</td>\n",
       "      <td>3499</td>\n",
       "      <td>2449</td>\n",
       "      <td>30% off</td>\n",
       "      <td>Westernwear-Women</td>\n",
       "    </tr>\n",
       "    <tr>\n",
       "      <th>2</th>\n",
       "      <td>fratini</td>\n",
       "      <td>solid polyester blend wide neck womens regular...</td>\n",
       "      <td>Size:Large,X-Large,XX-Large</td>\n",
       "      <td>1199</td>\n",
       "      <td>599</td>\n",
       "      <td>50% off</td>\n",
       "      <td>Westernwear-Women</td>\n",
       "    </tr>\n",
       "    <tr>\n",
       "      <th>3</th>\n",
       "      <td>zink london</td>\n",
       "      <td>stripes polyester sweetheart neck womens dress...</td>\n",
       "      <td>Size:Large,Medium,Small,X-Large</td>\n",
       "      <td>2299</td>\n",
       "      <td>1379</td>\n",
       "      <td>40% off</td>\n",
       "      <td>Westernwear-Women</td>\n",
       "    </tr>\n",
       "    <tr>\n",
       "      <th>4</th>\n",
       "      <td>life</td>\n",
       "      <td>regular fit regular length denim womens jeans ...</td>\n",
       "      <td>Size:26,28,30,32,34,36</td>\n",
       "      <td>1699</td>\n",
       "      <td>849</td>\n",
       "      <td>50% off</td>\n",
       "      <td>Westernwear-Women</td>\n",
       "    </tr>\n",
       "  </tbody>\n",
       "</table>\n",
       "</div>"
      ],
      "text/plain": [
       "     BrandName                                            Deatils  \\\n",
       "0         life  solid cotton blend collar neck womens a-line d...   \n",
       "1         only  polyester peter pan collar womens blouson dres...   \n",
       "2      fratini  solid polyester blend wide neck womens regular...   \n",
       "3  zink london  stripes polyester sweetheart neck womens dress...   \n",
       "4         life  regular fit regular length denim womens jeans ...   \n",
       "\n",
       "                                     Sizes   MRP SellPrice Discount  \\\n",
       "0  Size:Large,Medium,Small,X-Large,X-Small  1699       849  50% off   \n",
       "1                         Size:34,36,38,40  3499      2449  30% off   \n",
       "2              Size:Large,X-Large,XX-Large  1199       599  50% off   \n",
       "3          Size:Large,Medium,Small,X-Large  2299      1379  40% off   \n",
       "4                   Size:26,28,30,32,34,36  1699       849  50% off   \n",
       "\n",
       "            Category  \n",
       "0  Westernwear-Women  \n",
       "1  Westernwear-Women  \n",
       "2  Westernwear-Women  \n",
       "3  Westernwear-Women  \n",
       "4  Westernwear-Women  "
      ]
     },
     "execution_count": 18,
     "metadata": {},
     "output_type": "execute_result"
    }
   ],
   "source": [
    "data.head()"
   ]
  },
  {
   "cell_type": "code",
   "execution_count": 19,
   "metadata": {
    "colab": {
     "base_uri": "https://localhost:8080/"
    },
    "id": "KlpOvg-teMer",
    "outputId": "2fe8a8cb-5714-49fb-a5a0-5a109d806137"
   },
   "outputs": [
    {
     "data": {
      "text/plain": [
       "BrandName    object\n",
       "Deatils      object\n",
       "Sizes        object\n",
       "MRP          object\n",
       "SellPrice    object\n",
       "Discount     object\n",
       "Category     object\n",
       "dtype: object"
      ]
     },
     "execution_count": 19,
     "metadata": {},
     "output_type": "execute_result"
    }
   ],
   "source": [
    "data.dtypes"
   ]
  },
  {
   "cell_type": "code",
   "execution_count": 20,
   "metadata": {
    "id": "LEfx06u2eeoh"
   },
   "outputs": [],
   "source": [
    "data.replace('Nan', np.nan, inplace=True)"
   ]
  },
  {
   "cell_type": "code",
   "execution_count": 21,
   "metadata": {
    "id": "EcBK1M4KenH6"
   },
   "outputs": [],
   "source": [
    "data.dropna(axis=0, inplace=True)"
   ]
  },
  {
   "cell_type": "code",
   "execution_count": 22,
   "metadata": {
    "id": "KmzdPOXUeRJl"
   },
   "outputs": [],
   "source": [
    "data['MRP'] = data['MRP'].astype(int)\n",
    "data['SellPrice'] = data['SellPrice'].astype(int)"
   ]
  },
  {
   "cell_type": "code",
   "execution_count": 25,
   "metadata": {
    "colab": {
     "base_uri": "https://localhost:8080/"
    },
    "id": "D5QkHnMpedfy",
    "outputId": "d339b3fe-24e9-46b6-8757-9168dabb3ce7"
   },
   "outputs": [
    {
     "data": {
      "text/plain": [
       "BrandName    object\n",
       "Deatils      object\n",
       "Sizes        object\n",
       "MRP           int32\n",
       "SellPrice     int32\n",
       "Discount     object\n",
       "Category     object\n",
       "dtype: object"
      ]
     },
     "execution_count": 25,
     "metadata": {},
     "output_type": "execute_result"
    }
   ],
   "source": [
    "data.dtypes"
   ]
  },
  {
   "cell_type": "code",
   "execution_count": 26,
   "metadata": {
    "colab": {
     "base_uri": "https://localhost:8080/",
     "height": 300
    },
    "id": "HHaMK70Ket88",
    "outputId": "c10088b1-893d-4d26-ebca-3290f82fa029"
   },
   "outputs": [
    {
     "data": {
      "text/html": [
       "<div>\n",
       "<style scoped>\n",
       "    .dataframe tbody tr th:only-of-type {\n",
       "        vertical-align: middle;\n",
       "    }\n",
       "\n",
       "    .dataframe tbody tr th {\n",
       "        vertical-align: top;\n",
       "    }\n",
       "\n",
       "    .dataframe thead th {\n",
       "        text-align: right;\n",
       "    }\n",
       "</style>\n",
       "<table border=\"1\" class=\"dataframe\">\n",
       "  <thead>\n",
       "    <tr style=\"text-align: right;\">\n",
       "      <th></th>\n",
       "      <th>MRP</th>\n",
       "      <th>SellPrice</th>\n",
       "    </tr>\n",
       "  </thead>\n",
       "  <tbody>\n",
       "    <tr>\n",
       "      <th>count</th>\n",
       "      <td>18374.000000</td>\n",
       "      <td>18374.000000</td>\n",
       "    </tr>\n",
       "    <tr>\n",
       "      <th>mean</th>\n",
       "      <td>2136.928704</td>\n",
       "      <td>1163.798846</td>\n",
       "    </tr>\n",
       "    <tr>\n",
       "      <th>std</th>\n",
       "      <td>1189.416850</td>\n",
       "      <td>744.201506</td>\n",
       "    </tr>\n",
       "    <tr>\n",
       "      <th>min</th>\n",
       "      <td>171.000000</td>\n",
       "      <td>114.000000</td>\n",
       "    </tr>\n",
       "    <tr>\n",
       "      <th>25%</th>\n",
       "      <td>1299.000000</td>\n",
       "      <td>659.000000</td>\n",
       "    </tr>\n",
       "    <tr>\n",
       "      <th>50%</th>\n",
       "      <td>1899.000000</td>\n",
       "      <td>995.000000</td>\n",
       "    </tr>\n",
       "    <tr>\n",
       "      <th>75%</th>\n",
       "      <td>2663.000000</td>\n",
       "      <td>1469.000000</td>\n",
       "    </tr>\n",
       "    <tr>\n",
       "      <th>max</th>\n",
       "      <td>16999.000000</td>\n",
       "      <td>13599.000000</td>\n",
       "    </tr>\n",
       "  </tbody>\n",
       "</table>\n",
       "</div>"
      ],
      "text/plain": [
       "                MRP     SellPrice\n",
       "count  18374.000000  18374.000000\n",
       "mean    2136.928704   1163.798846\n",
       "std     1189.416850    744.201506\n",
       "min      171.000000    114.000000\n",
       "25%     1299.000000    659.000000\n",
       "50%     1899.000000    995.000000\n",
       "75%     2663.000000   1469.000000\n",
       "max    16999.000000  13599.000000"
      ]
     },
     "execution_count": 26,
     "metadata": {},
     "output_type": "execute_result"
    }
   ],
   "source": [
    "data.describe()"
   ]
  },
  {
   "cell_type": "code",
   "execution_count": 27,
   "metadata": {
    "colab": {
     "base_uri": "https://localhost:8080/"
    },
    "id": "1Cl-Q1yyf_hH",
    "outputId": "bef53535-dff8-4bff-8edf-298841287d55"
   },
   "outputs": [
    {
     "data": {
      "text/plain": [
       "Westernwear-Women           8221\n",
       "Indianwear-Women            6428\n",
       "Lingerie&Nightwear-Women    2084\n",
       "Footwear-Women              1638\n",
       "Watches-Women                  3\n",
       "Name: Category, dtype: int64"
      ]
     },
     "execution_count": 27,
     "metadata": {},
     "output_type": "execute_result"
    }
   ],
   "source": [
    "data['Category'].value_counts()"
   ]
  },
  {
   "cell_type": "code",
   "execution_count": 28,
   "metadata": {
    "colab": {
     "base_uri": "https://localhost:8080/",
     "height": 413
    },
    "id": "8oyCEho0exEF",
    "outputId": "a9629378-a89c-42c9-dbbd-b7e1ae1ebfff"
   },
   "outputs": [
    {
     "data": {
      "text/plain": [
       "<AxesSubplot:>"
      ]
     },
     "execution_count": 28,
     "metadata": {},
     "output_type": "execute_result"
    },
    {
     "data": {
      "image/png": "[encoded data removed]",
      "text/plain": [
       "<Figure size 432x288 with 1 Axes>"
      ]
     },
     "metadata": {
      "needs_background": "light"
     },
     "output_type": "display_data"
    }
   ],
   "source": [
    "data['Category'].value_counts().plot(kind='bar')"
   ]
  },
  {
   "cell_type": "code",
   "execution_count": 29,
   "metadata": {
    "colab": {
     "base_uri": "https://localhost:8080/",
     "height": 314
    },
    "id": "FLpoFC2ifHVL",
    "outputId": "1158685c-fdbd-4163-b966-187ff9ed3e36"
   },
   "outputs": [
    {
     "data": {
      "text/plain": [
       "<AxesSubplot:>"
      ]
     },
     "execution_count": 29,
     "metadata": {},
     "output_type": "execute_result"
    },
    {
     "data": {
      "image/png": "[encoded data removed]",
      "text/plain": [
       "<Figure size 432x288 with 1 Axes>"
      ]
     },
     "metadata": {
      "needs_background": "light"
     },
     "output_type": "display_data"
    }
   ],
   "source": [
    "data['Discount'].value_counts().head(10).plot(kind='bar')"
   ]
  },
  {
   "cell_type": "code",
   "execution_count": 30,
   "metadata": {
    "colab": {
     "base_uri": "https://localhost:8080/",
     "height": 543
    },
    "id": "K2OYfJsAgJ5j",
    "outputId": "22fd3f3f-05f6-4639-d8f0-5743add19cf0"
   },
   "outputs": [
    {
     "data": {
      "text/plain": [
       "<AxesSubplot:>"
      ]
     },
     "execution_count": 30,
     "metadata": {},
     "output_type": "execute_result"
    },
    {
     "data": {
      "image/png": "[encoded data removed]",
      "text/plain": [
       "<Figure size 432x288 with 1 Axes>"
      ]
     },
     "metadata": {
      "needs_background": "light"
     },
     "output_type": "display_data"
    }
   ],
   "source": [
    "data['Sizes'].value_counts().head(10).plot(kind='bar')"
   ]
  },
  {
   "cell_type": "code",
   "execution_count": 31,
   "metadata": {
    "id": "mKjCgYscgPUz"
   },
   "outputs": [],
   "source": [
    "high_selling_data = data[['BrandName', 'SellPrice', 'Category']].sort_values(by='SellPrice',ascending=False).head(20)"
   ]
  },
  {
   "cell_type": "code",
   "execution_count": 32,
   "metadata": {
    "colab": {
     "base_uri": "https://localhost:8080/",
     "height": 677
    },
    "id": "AAP_cEkyhDb7",
    "outputId": "0833e5ad-6a7e-40e2-b0b6-f1ea2f08c5c4"
   },
   "outputs": [
    {
     "data": {
      "text/html": [
       "<div>\n",
       "<style scoped>\n",
       "    .dataframe tbody tr th:only-of-type {\n",
       "        vertical-align: middle;\n",
       "    }\n",
       "\n",
       "    .dataframe tbody tr th {\n",
       "        vertical-align: top;\n",
       "    }\n",
       "\n",
       "    .dataframe thead th {\n",
       "        text-align: right;\n",
       "    }\n",
       "</style>\n",
       "<table border=\"1\" class=\"dataframe\">\n",
       "  <thead>\n",
       "    <tr style=\"text-align: right;\">\n",
       "      <th></th>\n",
       "      <th>BrandName</th>\n",
       "      <th>SellPrice</th>\n",
       "      <th>Category</th>\n",
       "    </tr>\n",
       "  </thead>\n",
       "  <tbody>\n",
       "    <tr>\n",
       "      <th>15744</th>\n",
       "      <td>global desi</td>\n",
       "      <td>13599</td>\n",
       "      <td>Indianwear-Women</td>\n",
       "    </tr>\n",
       "    <tr>\n",
       "      <th>14154</th>\n",
       "      <td>global desi</td>\n",
       "      <td>12799</td>\n",
       "      <td>Indianwear-Women</td>\n",
       "    </tr>\n",
       "    <tr>\n",
       "      <th>18629</th>\n",
       "      <td>w</td>\n",
       "      <td>7499</td>\n",
       "      <td>Indianwear-Women</td>\n",
       "    </tr>\n",
       "    <tr>\n",
       "      <th>24281</th>\n",
       "      <td>new balance</td>\n",
       "      <td>6999</td>\n",
       "      <td>Footwear-Women</td>\n",
       "    </tr>\n",
       "    <tr>\n",
       "      <th>24641</th>\n",
       "      <td>new balance</td>\n",
       "      <td>6999</td>\n",
       "      <td>Footwear-Women</td>\n",
       "    </tr>\n",
       "    <tr>\n",
       "      <th>25635</th>\n",
       "      <td>new balance</td>\n",
       "      <td>6999</td>\n",
       "      <td>Footwear-Women</td>\n",
       "    </tr>\n",
       "    <tr>\n",
       "      <th>24742</th>\n",
       "      <td>new balance</td>\n",
       "      <td>6999</td>\n",
       "      <td>Footwear-Women</td>\n",
       "    </tr>\n",
       "    <tr>\n",
       "      <th>14053</th>\n",
       "      <td>w</td>\n",
       "      <td>6749</td>\n",
       "      <td>Indianwear-Women</td>\n",
       "    </tr>\n",
       "    <tr>\n",
       "      <th>16718</th>\n",
       "      <td>w</td>\n",
       "      <td>6749</td>\n",
       "      <td>Indianwear-Women</td>\n",
       "    </tr>\n",
       "    <tr>\n",
       "      <th>15053</th>\n",
       "      <td>w</td>\n",
       "      <td>6749</td>\n",
       "      <td>Indianwear-Women</td>\n",
       "    </tr>\n",
       "    <tr>\n",
       "      <th>18615</th>\n",
       "      <td>w</td>\n",
       "      <td>6749</td>\n",
       "      <td>Indianwear-Women</td>\n",
       "    </tr>\n",
       "    <tr>\n",
       "      <th>26016</th>\n",
       "      <td>new balance</td>\n",
       "      <td>6649</td>\n",
       "      <td>Footwear-Women</td>\n",
       "    </tr>\n",
       "    <tr>\n",
       "      <th>24195</th>\n",
       "      <td>new balance</td>\n",
       "      <td>6299</td>\n",
       "      <td>Footwear-Women</td>\n",
       "    </tr>\n",
       "    <tr>\n",
       "      <th>26592</th>\n",
       "      <td>clarks</td>\n",
       "      <td>6299</td>\n",
       "      <td>Footwear-Women</td>\n",
       "    </tr>\n",
       "    <tr>\n",
       "      <th>24973</th>\n",
       "      <td>new balance</td>\n",
       "      <td>6299</td>\n",
       "      <td>Footwear-Women</td>\n",
       "    </tr>\n",
       "    <tr>\n",
       "      <th>24380</th>\n",
       "      <td>new balance</td>\n",
       "      <td>6299</td>\n",
       "      <td>Footwear-Women</td>\n",
       "    </tr>\n",
       "    <tr>\n",
       "      <th>24727</th>\n",
       "      <td>guess</td>\n",
       "      <td>6299</td>\n",
       "      <td>Footwear-Women</td>\n",
       "    </tr>\n",
       "    <tr>\n",
       "      <th>25455</th>\n",
       "      <td>clarks</td>\n",
       "      <td>6299</td>\n",
       "      <td>Footwear-Women</td>\n",
       "    </tr>\n",
       "    <tr>\n",
       "      <th>1782</th>\n",
       "      <td>forever new</td>\n",
       "      <td>6000</td>\n",
       "      <td>Westernwear-Women</td>\n",
       "    </tr>\n",
       "    <tr>\n",
       "      <th>18859</th>\n",
       "      <td>w</td>\n",
       "      <td>5999</td>\n",
       "      <td>Indianwear-Women</td>\n",
       "    </tr>\n",
       "  </tbody>\n",
       "</table>\n",
       "</div>"
      ],
      "text/plain": [
       "         BrandName  SellPrice           Category\n",
       "15744  global desi      13599   Indianwear-Women\n",
       "14154  global desi      12799   Indianwear-Women\n",
       "18629            w       7499   Indianwear-Women\n",
       "24281  new balance       6999     Footwear-Women\n",
       "24641  new balance       6999     Footwear-Women\n",
       "25635  new balance       6999     Footwear-Women\n",
       "24742  new balance       6999     Footwear-Women\n",
       "14053            w       6749   Indianwear-Women\n",
       "16718            w       6749   Indianwear-Women\n",
       "15053            w       6749   Indianwear-Women\n",
       "18615            w       6749   Indianwear-Women\n",
       "26016  new balance       6649     Footwear-Women\n",
       "24195  new balance       6299     Footwear-Women\n",
       "26592       clarks       6299     Footwear-Women\n",
       "24973  new balance       6299     Footwear-Women\n",
       "24380  new balance       6299     Footwear-Women\n",
       "24727        guess       6299     Footwear-Women\n",
       "25455       clarks       6299     Footwear-Women\n",
       "1782   forever new       6000  Westernwear-Women\n",
       "18859            w       5999   Indianwear-Women"
      ]
     },
     "execution_count": 32,
     "metadata": {},
     "output_type": "execute_result"
    }
   ],
   "source": [
    "high_selling_data"
   ]
  },
  {
   "cell_type": "code",
   "execution_count": 33,
   "metadata": {
    "colab": {
     "base_uri": "https://localhost:8080/",
     "height": 898
    },
    "id": "vixdcf6KhFN6",
    "outputId": "6adbd320-1c4d-4c80-c297-ce5f52b95796"
   },
   "outputs": [
    {
     "data": {
      "text/plain": [
       "<AxesSubplot:>"
      ]
     },
     "execution_count": 33,
     "metadata": {},
     "output_type": "execute_result"
    },
    {
     "data": {
      "image/png": "[encoded data removed]",
      "text/plain": [
       "<Figure size 1440x1440 with 1 Axes>"
      ]
     },
     "metadata": {
      "needs_background": "light"
     },
     "output_type": "display_data"
    }
   ],
   "source": [
    "fig, ax, = plt.subplots(figsize=(20,20))\n",
    "sns.boxplot(data=data, ax=ax)"
   ]
  },
  {
   "cell_type": "code",
   "execution_count": 34,
   "metadata": {
    "colab": {
     "base_uri": "https://localhost:8080/",
     "height": 353
    },
    "id": "Ar31NNZzjZhB",
    "outputId": "da3e604e-8187-41f6-fd16-02b792fe8b18"
   },
   "outputs": [
    {
     "name": "stderr",
     "output_type": "stream",
     "text": [
      "C:\\Users\\Dell.DESKTOP-I1349N9\\anaconda3\\lib\\site-packages\\seaborn\\distributions.py:2619: FutureWarning: `distplot` is a deprecated function and will be removed in a future version. Please adapt your code to use either `displot` (a figure-level function with similar flexibility) or `histplot` (an axes-level function for histograms).\n",
      "  warnings.warn(msg, FutureWarning)\n"
     ]
    },
    {
     "data": {
      "text/plain": [
       "<AxesSubplot:xlabel='MRP', ylabel='Density'>"
      ]
     },
     "execution_count": 34,
     "metadata": {},
     "output_type": "execute_result"
    },
    {
     "data": {
      "image/png": "[encoded data removed]",
      "text/plain": [
       "<Figure size 432x288 with 1 Axes>"
      ]
     },
     "metadata": {
      "needs_background": "light"
     },
     "output_type": "display_data"
    }
   ],
   "source": [
    "sns.distplot(data.MRP)"
   ]
  },
  {
   "cell_type": "code",
   "execution_count": null,
   "metadata": {
    "id": "4NRX_lHIlEMx"
   },
   "outputs": [],
   "source": []
  }
 ],
 "metadata": {
  "colab": {
   "name": "EDA using Fashion Analysis Dataset-Live Session.ipynb",
   "provenance": []
  },
  "kernelspec": {
   "display_name": "Python 3 (ipykernel)",
   "language": "python",
   "name": "python3"
  },
  "language_info": {
   "codemirror_mode": {
    "name": "ipython",
    "version": 3
   },
   "file_extension": ".py",
   "mimetype": "text/x-python",
   "name": "python",
   "nbconvert_exporter": "python",
   "pygments_lexer": "ipython3",
   "version": "3.9.12"
  }
 },
 "nbformat": 4,
 "nbformat_minor": 1
}
